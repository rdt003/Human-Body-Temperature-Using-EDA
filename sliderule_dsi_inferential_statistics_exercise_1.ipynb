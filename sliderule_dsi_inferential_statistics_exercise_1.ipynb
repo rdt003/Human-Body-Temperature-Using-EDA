{
 "cells": [
  {
   "cell_type": "markdown",
   "metadata": {},
   "source": [
    "# What is the True Normal Human Body Temperature? \n",
    "\n",
    "#### Background\n",
    "\n",
    "The mean normal body temperature was held to be 37$^{\\circ}$C or 98.6$^{\\circ}$F for more than 120 years since it was first conceptualized and reported by Carl Wunderlich in a famous 1868 book. But, is this value statistically correct?"
   ]
  },
  {
   "cell_type": "markdown",
   "metadata": {},
   "source": [
    "<h3>Exercises</h3>\n",
    "\n",
    "<p>In this exercise, you will analyze a dataset of human body temperatures and employ the concepts of hypothesis testing, confidence intervals, and statistical significance.</p>\n",
    "\n",
    "<p>Answer the following questions <b>in this notebook below and submit to your Github account</b>.</p> \n",
    "\n",
    "<ol>\n",
    "<li>  Is the distribution of body temperatures normal? \n",
    "    <ul>\n",
    "    <li> Although this is not a requirement for CLT to hold (read CLT carefully), it gives us some peace of mind that the population may also be normally distributed if we assume that this sample is representative of the population.\n",
    "    </ul>\n",
    "<li>  Is the sample size large? Are the observations independent?\n",
    "    <ul>\n",
    "    <li> Remember that this is a condition for the CLT, and hence the statistical tests we are using, to apply.\n",
    "    </ul>\n",
    "<li>  Is the true population mean really 98.6 degrees F?\n",
    "    <ul>\n",
    "    <li> Would you use a one-sample or two-sample test? Why?\n",
    "    <li> In this situation, is it appropriate to use the $t$ or $z$ statistic? \n",
    "    <li> Now try using the other test. How is the result be different? Why?\n",
    "    </ul>\n",
    "<li>  Draw a small sample of size 10 from the data and repeat both tests. \n",
    "    <ul>\n",
    "    <li> Which one is the correct one to use? \n",
    "    <li> What do you notice? What does this tell you about the difference in application of the $t$ and $z$ statistic?\n",
    "    </ul>\n",
    "<li>  At what temperature should we consider someone's temperature to be \"abnormal\"?\n",
    "    <ul>\n",
    "    <li> Start by computing the margin of error and confidence interval.\n",
    "    </ul>\n",
    "<li>  Is there a significant difference between males and females in normal temperature?\n",
    "    <ul>\n",
    "    <li> What test did you use and why?\n",
    "    <li> Write a story with your conclusion in the context of the original problem.\n",
    "    </ul>\n",
    "</ol>\n",
    "\n",
    "You can include written notes in notebook cells using Markdown: \n",
    "   - In the control panel at the top, choose Cell > Cell Type > Markdown\n",
    "   - Markdown syntax: http://nestacms.com/docs/creating-content/markdown-cheat-sheet\n",
    "\n",
    "#### Resources\n",
    "\n",
    "+ Information and data sources: http://www.amstat.org/publications/jse/datasets/normtemp.txt, http://www.amstat.org/publications/jse/jse_data_archive.htm\n",
    "+ Markdown syntax: http://nestacms.com/docs/creating-content/markdown-cheat-sheet\n",
    "\n",
    "****"
   ]
  },
  {
   "cell_type": "code",
   "execution_count": 1,
   "metadata": {},
   "outputs": [
    {
     "data": {
      "text/html": [
       "<div>\n",
       "<style scoped>\n",
       "    .dataframe tbody tr th:only-of-type {\n",
       "        vertical-align: middle;\n",
       "    }\n",
       "\n",
       "    .dataframe tbody tr th {\n",
       "        vertical-align: top;\n",
       "    }\n",
       "\n",
       "    .dataframe thead th {\n",
       "        text-align: right;\n",
       "    }\n",
       "</style>\n",
       "<table border=\"1\" class=\"dataframe\">\n",
       "  <thead>\n",
       "    <tr style=\"text-align: right;\">\n",
       "      <th></th>\n",
       "      <th>temperature</th>\n",
       "      <th>gender</th>\n",
       "      <th>heart_rate</th>\n",
       "    </tr>\n",
       "  </thead>\n",
       "  <tbody>\n",
       "    <tr>\n",
       "      <th>0</th>\n",
       "      <td>99.3</td>\n",
       "      <td>F</td>\n",
       "      <td>68.0</td>\n",
       "    </tr>\n",
       "    <tr>\n",
       "      <th>1</th>\n",
       "      <td>98.4</td>\n",
       "      <td>F</td>\n",
       "      <td>81.0</td>\n",
       "    </tr>\n",
       "    <tr>\n",
       "      <th>2</th>\n",
       "      <td>97.8</td>\n",
       "      <td>M</td>\n",
       "      <td>73.0</td>\n",
       "    </tr>\n",
       "    <tr>\n",
       "      <th>3</th>\n",
       "      <td>99.2</td>\n",
       "      <td>F</td>\n",
       "      <td>66.0</td>\n",
       "    </tr>\n",
       "    <tr>\n",
       "      <th>4</th>\n",
       "      <td>98.0</td>\n",
       "      <td>F</td>\n",
       "      <td>73.0</td>\n",
       "    </tr>\n",
       "  </tbody>\n",
       "</table>\n",
       "</div>"
      ],
      "text/plain": [
       "   temperature gender  heart_rate\n",
       "0         99.3      F        68.0\n",
       "1         98.4      F        81.0\n",
       "2         97.8      M        73.0\n",
       "3         99.2      F        66.0\n",
       "4         98.0      F        73.0"
      ]
     },
     "execution_count": 1,
     "metadata": {},
     "output_type": "execute_result"
    }
   ],
   "source": [
    "import pandas as pd\n",
    "import matplotlib.pyplot as plt\n",
    "import numpy as np\n",
    "import seaborn as sns\n",
    "% matplotlib inline\n",
    "\n",
    "df = pd.read_csv('data/human_body_temperature.csv')\n",
    "df.head()"
   ]
  },
  {
   "cell_type": "markdown",
   "metadata": {},
   "source": [
    "##### 1. Is the distribution of body temperatures normal?\n",
    "  * Although this is not a requirement for CLT to hold (read CLT carefully), it gives us some peace of mind that the population may also be normally distributed if we assume that this sample is representative of the population."
   ]
  },
  {
   "cell_type": "code",
   "execution_count": 2,
   "metadata": {},
   "outputs": [],
   "source": [
    "# ECDF function\n",
    "def ecdf(data, color=False, alpha=1):\n",
    "    \"\"\"Compute ECDF for a one-dimensional array of measurements.\"\"\"\n",
    "\n",
    "    # Number of data points: n\n",
    "    n = len(data)\n",
    "\n",
    "\n",
    "    # x-data for the ECDF: x\n",
    "    x = np.sort(data)\n",
    "\n",
    "\n",
    "    # y-data for the ECDF: y\n",
    "    y = np.arange(1, n+1) / n\n",
    "    \n",
    "    if color:\n",
    "        return plt.plot(x, y, marker=\".\", linestyle='none', color=color, alpha=alpha)\n",
    "    else:\n",
    "        return plt.plot(x, y, marker=\".\", linestyle='none', alpha=alpha)"
   ]
  },
  {
   "cell_type": "code",
   "execution_count": 3,
   "metadata": {},
   "outputs": [
    {
     "data": {
      "image/png": "[encoded data removed]",
      "text/plain": [
       "<matplotlib.figure.Figure at 0x236f9ee6be0>"
      ]
     },
     "metadata": {},
     "output_type": "display_data"
    }
   ],
   "source": [
    "# Plot the PDF\n",
    "df.temperature.hist(bins=100, normed=True, figsize=(10,8))\n",
    "\n",
    "# Plot the ECDF\n",
    "ecdf(df.temperature)\n",
    "\n",
    "# Label plots\n",
    "plt.xlabel('Body Temperature (F)')\n",
    "plt.legend(('ECDF', 'PDF'));"
   ]
  },
  {
   "cell_type": "markdown",
   "metadata": {},
   "source": [
    "    Visually, it does appear that the body temperatures may have a normal distribution"
   ]
  },
  {
   "cell_type": "markdown",
   "metadata": {},
   "source": [
    "##### 2. Is the sample size large? Are the observations independent?\n",
    "  * Remember that this is a condition for the CLT, and hence the statistical tests we are using, to apply."
   ]
  },
  {
   "cell_type": "code",
   "execution_count": 4,
   "metadata": {},
   "outputs": [
    {
     "name": "stdout",
     "output_type": "stream",
     "text": [
      "Sample size: 130\n"
     ]
    }
   ],
   "source": [
    "# Check the sample size\n",
    "print('Sample size:', df.shape[0])"
   ]
  },
  {
   "cell_type": "markdown",
   "metadata": {},
   "source": [
    "The sample size is 130 which is larger than 30, hence it is large enough. "
   ]
  },
  {
   "cell_type": "code",
   "execution_count": 5,
   "metadata": {},
   "outputs": [
    {
     "name": "stdout",
     "output_type": "stream",
     "text": [
      "Covariance:  1.31338103757\n",
      "Correlation:  0.253656402721\n"
     ]
    },
    {
     "data": {
      "image/png": "[encoded data removed]",
      "text/plain": [
       "<matplotlib.figure.Figure at 0x236fa058be0>"
      ]
     },
     "metadata": {},
     "output_type": "display_data"
    }
   ],
   "source": [
    "'''\n",
    "Scatter plot: Body Temperature vs. Heart Rate\n",
    "'''\n",
    "# Scatter plot\n",
    "sns.lmplot( x=\"temperature\", y=\"heart_rate\", data=df, fit_reg=False, hue='gender', legend=False)\n",
    "\n",
    "# Set margins\n",
    "plt.margins(.02)\n",
    "\n",
    "# Label the axes\n",
    "plt.xlabel('Body Temperature (F)')\n",
    "plt.ylabel('Heart Rate')\n",
    "plt.legend(loc='upper right');\n",
    "\n",
    "'''\n",
    "Dependence\n",
    "'''\n",
    "# Covariance Matrix\n",
    "covariance_matrix = np.cov(df.temperature, df.heart_rate)\n",
    "print('Covariance: ', covariance_matrix[0,1])\n",
    "\n",
    "# Correlation\n",
    "corr_mat = np.corrcoef(df.temperature, df.heart_rate)\n",
    "print('Correlation: ', corr_mat[0,1])"
   ]
  },
  {
   "cell_type": "markdown",
   "metadata": {},
   "source": [
    "    It appears that body temperature is independent of heart rate, as shown by the plot and the correlation coefficient."
   ]
  },
  {
   "cell_type": "markdown",
   "metadata": {},
   "source": [
    "##### 3. Is the true population mean really 98.6 degrees F?\n",
    "  * Would you use a one-sample or two-sample test? Why?\n",
    "  * In this situation, is it appropriate to use the  tt  or  zz  statistic?\n",
    "  * Now try using the other test. How is the result be different? Why?"
   ]
  },
  {
   "cell_type": "markdown",
   "metadata": {},
   "source": [
    "I would use a one-sample test since I am comparing a sample to a known mean value.\n",
    "\n",
    "This situation calls for a z statistic, since the sample size is greater than 30."
   ]
  },
  {
   "cell_type": "code",
   "execution_count": 201,
   "metadata": {},
   "outputs": [],
   "source": [
    "def draw_bs_reps(data, func, size=1):\n",
    "    \"\"\"Draw bootstrap replicates.\"\"\"\n",
    "\n",
    "    # Initialize array of replicates: bs_replicates\n",
    "    bs_replicates = np.empty(size)\n",
    "\n",
    "    # Generate replicates\n",
    "    for i in range(size):\n",
    "        bs_replicates[i] = func(np.random.choice(data, len(data)))\n",
    "\n",
    "    return bs_replicates"
   ]
  },
  {
   "cell_type": "code",
   "execution_count": 251,
   "metadata": {},
   "outputs": [
    {
     "name": "stdout",
     "output_type": "stream",
     "text": [
      "Sample mean: 98.5991151538\n",
      "Observed mean: 98.24923076923078\n",
      "p-value: 0.0\n"
     ]
    },
    {
     "data": {
      "image/png": "[encoded data removed]",
      "text/plain": [
       "<matplotlib.figure.Figure at 0x236fb33cbe0>"
      ]
     },
     "metadata": {},
     "output_type": "display_data"
    }
   ],
   "source": [
    "# Observed mean\n",
    "obs_mean = np.mean(df.temperature)\n",
    "\n",
    "# Shift the mean\n",
    "temp_shifted = df.temperature - np.mean(df.temperature) + 98.6\n",
    "\n",
    "# Create 10000 bootstrap replicates of the difference in mean\n",
    "bs_reps = draw_bs_reps(temp_shifted, np.mean, 10000)\n",
    "\n",
    "# Compute the p-value\n",
    "p = np.sum(bs_reps <= obs_mean) / len(bs_reps)\n",
    "\n",
    "# Print results\n",
    "print('Sample mean:', np.mean(bs_reps))\n",
    "print('Observed mean:', obs_mean)\n",
    "print('p-value:', p)\n",
    "plt.hist(bs_reps, bins=100, normed=True);"
   ]
  },
  {
   "cell_type": "code",
   "execution_count": 278,
   "metadata": {},
   "outputs": [
    {
     "data": {
      "text/plain": [
       "Ttest_1sampResult(statistic=5.4548232923638569, pvalue=2.4106320415634284e-07)"
      ]
     },
     "execution_count": 278,
     "metadata": {},
     "output_type": "execute_result"
    }
   ],
   "source": [
    "from scipy.stats import ttest_1samp as ttest\n",
    "ttest(temp_shifted, obs_mean)"
   ]
  },
  {
   "cell_type": "code",
   "execution_count": 281,
   "metadata": {},
   "outputs": [
    {
     "data": {
      "text/plain": [
       "(5.4548232923638569, 2.4510785070597441e-08)"
      ]
     },
     "execution_count": 281,
     "metadata": {},
     "output_type": "execute_result"
    }
   ],
   "source": [
    "from statsmodels.stats.weightstats import ztest\n",
    "ztest(x1=temp_shifted, value=obs_mean, alternative='larger')"
   ]
  },
  {
   "cell_type": "markdown",
   "metadata": {},
   "source": [
    "    The p-value obtained from the z test is 10% smaller. However, this doesn't make much of a difference as both p-values are extremely small, so both tests are valid.\n",
    "\n",
    "    The extremely small p-value reveals that we reject the null hypothesis, meaning that the observed mean of 98.249 is the true population mean."
   ]
  },
  {
   "cell_type": "markdown",
   "metadata": {},
   "source": [
    "##### 4. Draw a small sample of size 10 from the data and repeat both tests.\n",
    "  * Which one is the correct one to use?\n",
    "  * What do you notice? What does this tell you about the difference in application of the  tt  and  zz  statistic?"
   ]
  },
  {
   "cell_type": "code",
   "execution_count": 273,
   "metadata": {},
   "outputs": [
    {
     "name": "stdout",
     "output_type": "stream",
     "text": [
      "Sample mean: 98.5973846154\n",
      "Observed mean: 98.24923076923078\n",
      "p-value: 0.0\n"
     ]
    },
    {
     "data": {
      "image/png": "[encoded data removed]",
      "text/plain": [
       "<matplotlib.figure.Figure at 0x236fafd4470>"
      ]
     },
     "metadata": {},
     "output_type": "display_data"
    }
   ],
   "source": [
    "# Set the seed to get the same results\n",
    "np.random.seed(44)\n",
    "\n",
    "# Draw a sample of size 10\n",
    "small_sample = draw_bs_reps(temp_shifted, np.mean, 10)\n",
    "\n",
    "# Compute the p-value\n",
    "p = np.sum(small_sample <= obs_mean) / len(small_sample)\n",
    "\n",
    "# Print results\n",
    "print('Sample mean:', np.mean(small_sample))\n",
    "print('Observed mean:', obs_mean)\n",
    "print('p-value:', p)\n",
    "plt.hist(small_sample, bins=50);"
   ]
  },
  {
   "cell_type": "code",
   "execution_count": 274,
   "metadata": {},
   "outputs": [
    {
     "data": {
      "text/plain": [
       "Ttest_1sampResult(statistic=13.011311276789513, pvalue=3.8540924826622482e-07)"
      ]
     },
     "execution_count": 274,
     "metadata": {},
     "output_type": "execute_result"
    }
   ],
   "source": [
    "ttest(small_sample, obs_mean)"
   ]
  },
  {
   "cell_type": "code",
   "execution_count": 275,
   "metadata": {},
   "outputs": [
    {
     "data": {
      "text/plain": [
       "(13.011311276789513, 5.2757896102186109e-39)"
      ]
     },
     "execution_count": 275,
     "metadata": {},
     "output_type": "execute_result"
    }
   ],
   "source": [
    "ztest(x1=small_sample, value=obs_mean , alternative='larger')"
   ]
  },
  {
   "cell_type": "markdown",
   "metadata": {},
   "source": [
    "    Again, the resulting p-values are so small that it doesn't matter which test is used. This means that the two tests are two different approaches to the same result, granted that the sample size is large enough."
   ]
  },
  {
   "cell_type": "markdown",
   "metadata": {},
   "source": [
    "##### 5. At what temperature should we consider someone's temperature to be \"abnormal\"?\n",
    "  * Start by computing the margin of error and confidence interval."
   ]
  },
  {
   "cell_type": "code",
   "execution_count": 429,
   "metadata": {},
   "outputs": [
    {
     "name": "stdout",
     "output_type": "stream",
     "text": [
      "Margin of Error: 0.123074769231\n",
      "95% Confidence Interval: [ 98.12538462  98.37461538]\n"
     ]
    }
   ],
   "source": [
    "# Create 10,000 boostrap replicates of mean\n",
    "bs_reps = draw_bs_reps(df.temperature, np.mean, 10000)\n",
    "\n",
    "# Calculate distribution standard deviation\n",
    "bs_std = np.std(bs_reps)\n",
    "\n",
    "# Calculate confidence interval\n",
    "conf_int = np.percentile(bs_reps, [2.5, 97.5])\n",
    "\n",
    "# Calculate critical value\n",
    "crit_val = (np.mean(bs_reps) - conf_int[0]) / bs_std\n",
    "\n",
    "# Calculate margin error\n",
    "margin_error = crit_val * bs_std\n",
    "\n",
    "print('Margin of Error:', margin_error)\n",
    "print('95% Confidence Interval:', conf_int)"
   ]
  },
  {
   "cell_type": "markdown",
   "metadata": {},
   "source": [
    "    Temperatures exceeding 98.4 degrees (F), and temperatures below 98.13 degrees (F) are considered abnormal temperatures."
   ]
  },
  {
   "cell_type": "markdown",
   "metadata": {},
   "source": [
    "##### 6. Is there a significant difference between males and females in normal temperature?\n",
    "  * What test did you use and why?\n",
    "  * Write a story with your conclusion in the context of the original problem."
   ]
  },
  {
   "cell_type": "markdown",
   "metadata": {},
   "source": [
    "This calls for a two-sample z-test, because I am comparing two samples to one another to determine the null hypothesis that they have the same mean body temperature, and because the sample size is larger than 30."
   ]
  },
  {
   "cell_type": "code",
   "execution_count": null,
   "metadata": {},
   "outputs": [],
   "source": [
    "# Define two-sample bootstrap function\n",
    "def draw_bs_pairs(x, y, func, size=1):\n",
    "    \"\"\"Perform pairs bootstrap.\"\"\"\n",
    "\n",
    "    # Set up array of indices to sample from: inds\n",
    "    inds = np.arange(len(x))\n",
    "\n",
    "    # Initialize replicates\n",
    "    bs_slope_reps = np.empty(size)\n",
    "    bs_intercept_reps = np.empty(size)\n",
    "\n",
    "    # Generate replicates\n",
    "    for i in range(size):\n",
    "        bs_inds = np.random.choice(inds, len(inds))\n",
    "        bs_x, bs_y = x[bs_inds], y[bs_inds]\n",
    "        bs_replicates[i] = func(bs_x, bs_y)\n",
    "        bs_slope_reps[i], bs_intercept_reps[i] = func(bs_x, bs_y)\n",
    "    \n",
    "    return bs_slope_reps[i], bs_intercept_reps[i]"
   ]
  },
  {
   "cell_type": "code",
   "execution_count": 457,
   "metadata": {},
   "outputs": [
    {
     "name": "stdout",
     "output_type": "stream",
     "text": [
      "Mean Body Temp (F): Male - 98.104615, Female - 98.393846\n",
      "p-value: 0.0086\n"
     ]
    }
   ],
   "source": [
    "# Isolate male and female dataframes\n",
    "male = df[df.gender=='M'].temperature\n",
    "female = df[df.gender=='F'].temperature\n",
    "\n",
    "# Calculate observed diff of means\n",
    "obs_diff = np.mean(male) - np.mean(female)\n",
    "\n",
    "# Shift the mean to the observed mean\n",
    "male_shifted = male - np.mean(male) + obs_mean\n",
    "female_shifted = female - np.mean(female) + obs_mean\n",
    "\n",
    "# Create bootstrap replicates\n",
    "bs_male_shift = draw_bs_reps(male_shifted, np.mean, 10000)\n",
    "bs_female_shift = draw_bs_reps(female_shifted, np.mean, 10000)\n",
    "\n",
    "# Calculate difference of means for the two replicates\n",
    "bs_mvf = bs_male_shift - bs_female_shift\n",
    "\n",
    "# Calculate p-value\n",
    "p_mvf = np.sum(bs_mvf <= obs_diff) / len(bs_mvf)\n",
    "print('Mean Body Temp (F): Male - %f, Female - %f' % (np.mean(male), np.mean(female)) )\n",
    "print('p-value:', p_mvf)"
   ]
  },
  {
   "cell_type": "markdown",
   "metadata": {},
   "source": [
    "    The p-value, 1.16%, is quite small, and it is safe to say there is a statistically significant difference between male and female mean body temperatures.\n",
    "    \n",
    "    Males have a mean body temperature of 98.105 degrees (F), while females have a mean body temperature of 98.4 degrees (F)"
   ]
  },
  {
   "cell_type": "markdown",
   "metadata": {},
   "source": [
    "# Conclusion"
   ]
  },
  {
   "cell_type": "markdown",
   "metadata": {},
   "source": [
    "In conclusion, the true mean body temperature is not 98.6, but rather 98.25. While observing the difference between male and female body temperatures, the test concludes that they are statistically different from one another: with males having a mean body temperature of 98.1, and females having a mean body temperature of 98.4"
   ]
  }
 ],
 "metadata": {
  "kernelspec": {
   "display_name": "Python 3",
   "language": "python",
   "name": "python3"
  },
  "language_info": {
   "codemirror_mode": {
    "name": "ipython",
    "version": 3
   },
   "file_extension": ".py",
   "mimetype": "text/x-python",
   "name": "python",
   "nbconvert_exporter": "python",
   "pygments_lexer": "ipython3",
   "version": "3.6.3"
  }
 },
 "nbformat": 4,
 "nbformat_minor": 1
}
